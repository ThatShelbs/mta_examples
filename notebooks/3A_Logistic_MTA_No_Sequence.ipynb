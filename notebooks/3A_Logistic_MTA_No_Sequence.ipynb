{
 "cells": [
  {
   "cell_type": "code",
   "execution_count": 2,
   "id": "7e415b52",
   "metadata": {},
   "outputs": [],
   "source": [
    "## standard packages\n",
    "import pandas as pd\n",
    "import numpy as np\n",
    "from scipy import special\n",
    "\n",
    "## visualization packages\n",
    "import plotly.express as px\n",
    "import plotly.graph_objects as go\n",
    "\n",
    "## Model packages\n",
    "from sklearn.model_selection import train_test_split, GridSearchCV\n",
    "from sklearn.linear_model import LogisticRegression\n",
    "from sklearn.metrics import roc_auc_score, roc_curve"
   ]
  },
  {
   "cell_type": "markdown",
   "id": "46e2f4bd",
   "metadata": {},
   "source": [
    "# Motivational Example A - Logistic MTA with No Sequence\n",
    "\n",
    "This notebook will build a basic logistic model on MTA data with no sequence. \n",
    "\n",
    "It will model on frequency of touchpoints in a journey. \n",
    "\n",
    "It will arbitrarily enforce a non data driven 45 day window (perhaps provided by our marketing SME). You are encouraged to also look into data driven ways to define the proper window or model directly on touchpoint proximity."
   ]
  },
  {
   "cell_type": "code",
   "execution_count": 5,
   "id": "5f5acdbf",
   "metadata": {},
   "outputs": [
    {
     "data": {
      "text/html": [
       "<div>\n",
       "<style scoped>\n",
       "    .dataframe tbody tr th:only-of-type {\n",
       "        vertical-align: middle;\n",
       "    }\n",
       "\n",
       "    .dataframe tbody tr th {\n",
       "        vertical-align: top;\n",
       "    }\n",
       "\n",
       "    .dataframe thead th {\n",
       "        text-align: right;\n",
       "    }\n",
       "</style>\n",
       "<table border=\"1\" class=\"dataframe\">\n",
       "  <thead>\n",
       "    <tr style=\"text-align: right;\">\n",
       "      <th></th>\n",
       "      <th>sequence_id</th>\n",
       "      <th>fullVisitorId</th>\n",
       "      <th>event_name</th>\n",
       "      <th>event_datetime</th>\n",
       "      <th>conversion_proximity</th>\n",
       "    </tr>\n",
       "  </thead>\n",
       "  <tbody>\n",
       "    <tr>\n",
       "      <th>0</th>\n",
       "      <td>0099Rqojoj1MCXN</td>\n",
       "      <td>7343617347507729080</td>\n",
       "      <td>organic_search</td>\n",
       "      <td>2018-04-15 17:31:50</td>\n",
       "      <td>75.0</td>\n",
       "    </tr>\n",
       "    <tr>\n",
       "      <th>1</th>\n",
       "      <td>0099Rqojoj1MCXN</td>\n",
       "      <td>7343617347507729080</td>\n",
       "      <td>dead_end</td>\n",
       "      <td>2018-04-15 17:33:05</td>\n",
       "      <td>0.0</td>\n",
       "    </tr>\n",
       "    <tr>\n",
       "      <th>2</th>\n",
       "      <td>00A9Lkka73okUx2</td>\n",
       "      <td>89656057821147903</td>\n",
       "      <td>organic_search</td>\n",
       "      <td>2017-09-14 16:36:56</td>\n",
       "      <td>1033.0</td>\n",
       "    </tr>\n",
       "    <tr>\n",
       "      <th>3</th>\n",
       "      <td>00A9Lkka73okUx2</td>\n",
       "      <td>89656057821147903</td>\n",
       "      <td>dead_end</td>\n",
       "      <td>2017-09-14 16:54:09</td>\n",
       "      <td>0.0</td>\n",
       "    </tr>\n",
       "    <tr>\n",
       "      <th>4</th>\n",
       "      <td>00B30tmbMwJn7Cf</td>\n",
       "      <td>4307745811624101170</td>\n",
       "      <td>organic_search</td>\n",
       "      <td>2017-04-21 02:41:23</td>\n",
       "      <td>1.0</td>\n",
       "    </tr>\n",
       "    <tr>\n",
       "      <th>5</th>\n",
       "      <td>00B30tmbMwJn7Cf</td>\n",
       "      <td>4307745811624101170</td>\n",
       "      <td>dead_end</td>\n",
       "      <td>2017-04-21 02:41:24</td>\n",
       "      <td>0.0</td>\n",
       "    </tr>\n",
       "    <tr>\n",
       "      <th>6</th>\n",
       "      <td>00BKxKnEYlKbw9b</td>\n",
       "      <td>7129167701457127936</td>\n",
       "      <td>organic_search</td>\n",
       "      <td>2016-10-02 15:16:09</td>\n",
       "      <td>1.0</td>\n",
       "    </tr>\n",
       "    <tr>\n",
       "      <th>7</th>\n",
       "      <td>00BKxKnEYlKbw9b</td>\n",
       "      <td>7129167701457127936</td>\n",
       "      <td>dead_end</td>\n",
       "      <td>2016-10-02 15:16:10</td>\n",
       "      <td>0.0</td>\n",
       "    </tr>\n",
       "    <tr>\n",
       "      <th>8</th>\n",
       "      <td>00EttOfsTTyp45B</td>\n",
       "      <td>3217678225016118393</td>\n",
       "      <td>referral</td>\n",
       "      <td>2017-10-23 19:44:20</td>\n",
       "      <td>143.0</td>\n",
       "    </tr>\n",
       "    <tr>\n",
       "      <th>9</th>\n",
       "      <td>00EttOfsTTyp45B</td>\n",
       "      <td>3217678225016118393</td>\n",
       "      <td>dead_end</td>\n",
       "      <td>2017-10-23 19:46:43</td>\n",
       "      <td>0.0</td>\n",
       "    </tr>\n",
       "  </tbody>\n",
       "</table>\n",
       "</div>"
      ],
      "text/plain": [
       "       sequence_id        fullVisitorId      event_name       event_datetime  \\\n",
       "0  0099Rqojoj1MCXN  7343617347507729080  organic_search  2018-04-15 17:31:50   \n",
       "1  0099Rqojoj1MCXN  7343617347507729080        dead_end  2018-04-15 17:33:05   \n",
       "2  00A9Lkka73okUx2    89656057821147903  organic_search  2017-09-14 16:36:56   \n",
       "3  00A9Lkka73okUx2    89656057821147903        dead_end  2017-09-14 16:54:09   \n",
       "4  00B30tmbMwJn7Cf  4307745811624101170  organic_search  2017-04-21 02:41:23   \n",
       "5  00B30tmbMwJn7Cf  4307745811624101170        dead_end  2017-04-21 02:41:24   \n",
       "6  00BKxKnEYlKbw9b  7129167701457127936  organic_search  2016-10-02 15:16:09   \n",
       "7  00BKxKnEYlKbw9b  7129167701457127936        dead_end  2016-10-02 15:16:10   \n",
       "8  00EttOfsTTyp45B  3217678225016118393        referral  2017-10-23 19:44:20   \n",
       "9  00EttOfsTTyp45B  3217678225016118393        dead_end  2017-10-23 19:46:43   \n",
       "\n",
       "   conversion_proximity  \n",
       "0                  75.0  \n",
       "1                   0.0  \n",
       "2                1033.0  \n",
       "3                   0.0  \n",
       "4                   1.0  \n",
       "5                   0.0  \n",
       "6                   1.0  \n",
       "7                   0.0  \n",
       "8                 143.0  \n",
       "9                   0.0  "
      ]
     },
     "execution_count": 5,
     "metadata": {},
     "output_type": "execute_result"
    }
   ],
   "source": [
    "sequence_df = pd.read_csv('../datasets/sequence_fact.csv')\n",
    "sequence_df.head(10)"
   ]
  },
  {
   "cell_type": "code",
   "execution_count": 7,
   "id": "5d0ac3ac",
   "metadata": {},
   "outputs": [],
   "source": [
    "sequence_to_visitor_map = sequence_df[['sequence_id','fullVisitorId']].drop_duplicates().reset_index(drop=True)"
   ]
  },
  {
   "cell_type": "markdown",
   "id": "244ef5d8",
   "metadata": {},
   "source": [
    "## Make a modeling dataset\n",
    "\n",
    "We want to filter out rows where conversion proximity >= 45 days (45 days *  86400 seconds per day\n",
    " = 3,888,000 seconds).\n",
    "\n",
    "We want 1 row to represent the sequence id.\n",
    "\n",
    "For fun, lets build a string column that shows the events in order\n",
    "\n",
    "Next there is a conversion column 1 = yes conversion 0 equals dead end journey\n",
    "\n",
    "Finally, since this a non sequence table we would need to make a column based on each channel if it is present in the 45 day journey. "
   ]
  },
  {
   "cell_type": "code",
   "execution_count": 8,
   "id": "64e79b33",
   "metadata": {},
   "outputs": [],
   "source": [
    "## filter conversion_proximity \n",
    "model_prep_df1 = sequence_df.loc[(sequence_df['conversion_proximity']/86400)<=45,:]"
   ]
  },
  {
   "cell_type": "code",
   "execution_count": 9,
   "id": "c7fe7380",
   "metadata": {},
   "outputs": [
    {
     "data": {
      "text/html": [
       "<div>\n",
       "<style scoped>\n",
       "    .dataframe tbody tr th:only-of-type {\n",
       "        vertical-align: middle;\n",
       "    }\n",
       "\n",
       "    .dataframe tbody tr th {\n",
       "        vertical-align: top;\n",
       "    }\n",
       "\n",
       "    .dataframe thead th {\n",
       "        text-align: right;\n",
       "    }\n",
       "</style>\n",
       "<table border=\"1\" class=\"dataframe\">\n",
       "  <thead>\n",
       "    <tr style=\"text-align: right;\">\n",
       "      <th></th>\n",
       "      <th>sequence_id</th>\n",
       "      <th>sequence_details</th>\n",
       "    </tr>\n",
       "  </thead>\n",
       "  <tbody>\n",
       "    <tr>\n",
       "      <th>0</th>\n",
       "      <td>0099Rqojoj1MCXN</td>\n",
       "      <td>organic_search&gt;dead_end</td>\n",
       "    </tr>\n",
       "    <tr>\n",
       "      <th>1</th>\n",
       "      <td>00A9Lkka73okUx2</td>\n",
       "      <td>organic_search&gt;dead_end</td>\n",
       "    </tr>\n",
       "    <tr>\n",
       "      <th>2</th>\n",
       "      <td>00B30tmbMwJn7Cf</td>\n",
       "      <td>organic_search&gt;dead_end</td>\n",
       "    </tr>\n",
       "    <tr>\n",
       "      <th>3</th>\n",
       "      <td>00BKxKnEYlKbw9b</td>\n",
       "      <td>organic_search&gt;dead_end</td>\n",
       "    </tr>\n",
       "    <tr>\n",
       "      <th>4</th>\n",
       "      <td>00EttOfsTTyp45B</td>\n",
       "      <td>referral&gt;dead_end</td>\n",
       "    </tr>\n",
       "  </tbody>\n",
       "</table>\n",
       "</div>"
      ],
      "text/plain": [
       "       sequence_id         sequence_details\n",
       "0  0099Rqojoj1MCXN  organic_search>dead_end\n",
       "1  00A9Lkka73okUx2  organic_search>dead_end\n",
       "2  00B30tmbMwJn7Cf  organic_search>dead_end\n",
       "3  00BKxKnEYlKbw9b  organic_search>dead_end\n",
       "4  00EttOfsTTyp45B        referral>dead_end"
      ]
     },
     "execution_count": 9,
     "metadata": {},
     "output_type": "execute_result"
    }
   ],
   "source": [
    "## make the sequence details\n",
    "model_prep_df2 = model_prep_df1.groupby('sequence_id')['event_name'].agg(lambda x: '>'.join(x)).reset_index()\n",
    "model_prep_df2.columns = ['sequence_id','sequence_details']\n",
    "model_prep_df2.head()"
   ]
  },
  {
   "cell_type": "code",
   "execution_count": 10,
   "id": "e3d10c02",
   "metadata": {},
   "outputs": [
    {
     "data": {
      "text/html": [
       "<div>\n",
       "<style scoped>\n",
       "    .dataframe tbody tr th:only-of-type {\n",
       "        vertical-align: middle;\n",
       "    }\n",
       "\n",
       "    .dataframe tbody tr th {\n",
       "        vertical-align: top;\n",
       "    }\n",
       "\n",
       "    .dataframe thead th {\n",
       "        text-align: right;\n",
       "    }\n",
       "</style>\n",
       "<table border=\"1\" class=\"dataframe\">\n",
       "  <thead>\n",
       "    <tr style=\"text-align: right;\">\n",
       "      <th></th>\n",
       "      <th>sequence_id</th>\n",
       "      <th>(other)</th>\n",
       "      <th>affiliates</th>\n",
       "      <th>conversion</th>\n",
       "      <th>dead_end</th>\n",
       "      <th>direct</th>\n",
       "      <th>display</th>\n",
       "      <th>organic_search</th>\n",
       "      <th>paid_search</th>\n",
       "      <th>referral</th>\n",
       "      <th>social</th>\n",
       "    </tr>\n",
       "  </thead>\n",
       "  <tbody>\n",
       "    <tr>\n",
       "      <th>0</th>\n",
       "      <td>0099Rqojoj1MCXN</td>\n",
       "      <td>0</td>\n",
       "      <td>0</td>\n",
       "      <td>0</td>\n",
       "      <td>1</td>\n",
       "      <td>0</td>\n",
       "      <td>0</td>\n",
       "      <td>1</td>\n",
       "      <td>0</td>\n",
       "      <td>0</td>\n",
       "      <td>0</td>\n",
       "    </tr>\n",
       "    <tr>\n",
       "      <th>1</th>\n",
       "      <td>00A9Lkka73okUx2</td>\n",
       "      <td>0</td>\n",
       "      <td>0</td>\n",
       "      <td>0</td>\n",
       "      <td>1</td>\n",
       "      <td>0</td>\n",
       "      <td>0</td>\n",
       "      <td>1</td>\n",
       "      <td>0</td>\n",
       "      <td>0</td>\n",
       "      <td>0</td>\n",
       "    </tr>\n",
       "    <tr>\n",
       "      <th>2</th>\n",
       "      <td>00B30tmbMwJn7Cf</td>\n",
       "      <td>0</td>\n",
       "      <td>0</td>\n",
       "      <td>0</td>\n",
       "      <td>1</td>\n",
       "      <td>0</td>\n",
       "      <td>0</td>\n",
       "      <td>1</td>\n",
       "      <td>0</td>\n",
       "      <td>0</td>\n",
       "      <td>0</td>\n",
       "    </tr>\n",
       "    <tr>\n",
       "      <th>3</th>\n",
       "      <td>00BKxKnEYlKbw9b</td>\n",
       "      <td>0</td>\n",
       "      <td>0</td>\n",
       "      <td>0</td>\n",
       "      <td>1</td>\n",
       "      <td>0</td>\n",
       "      <td>0</td>\n",
       "      <td>1</td>\n",
       "      <td>0</td>\n",
       "      <td>0</td>\n",
       "      <td>0</td>\n",
       "    </tr>\n",
       "    <tr>\n",
       "      <th>4</th>\n",
       "      <td>00EttOfsTTyp45B</td>\n",
       "      <td>0</td>\n",
       "      <td>0</td>\n",
       "      <td>0</td>\n",
       "      <td>1</td>\n",
       "      <td>0</td>\n",
       "      <td>0</td>\n",
       "      <td>0</td>\n",
       "      <td>0</td>\n",
       "      <td>1</td>\n",
       "      <td>0</td>\n",
       "    </tr>\n",
       "  </tbody>\n",
       "</table>\n",
       "</div>"
      ],
      "text/plain": [
       "       sequence_id  (other)  affiliates  conversion  dead_end  direct  \\\n",
       "0  0099Rqojoj1MCXN        0           0           0         1       0   \n",
       "1  00A9Lkka73okUx2        0           0           0         1       0   \n",
       "2  00B30tmbMwJn7Cf        0           0           0         1       0   \n",
       "3  00BKxKnEYlKbw9b        0           0           0         1       0   \n",
       "4  00EttOfsTTyp45B        0           0           0         1       0   \n",
       "\n",
       "   display  organic_search  paid_search  referral  social  \n",
       "0        0               1            0         0       0  \n",
       "1        0               1            0         0       0  \n",
       "2        0               1            0         0       0  \n",
       "3        0               1            0         0       0  \n",
       "4        0               0            0         1       0  "
      ]
     },
     "execution_count": 10,
     "metadata": {},
     "output_type": "execute_result"
    }
   ],
   "source": [
    "## make the modeling features\n",
    "model_prep_df3 = model_prep_df1.pivot_table(index='sequence_id', columns='event_name', aggfunc='size', fill_value=0).reset_index()\n",
    "model_prep_df3 = model_prep_df3.rename_axis(None, axis=1)\n",
    "model_prep_df3.head()"
   ]
  },
  {
   "cell_type": "code",
   "execution_count": 11,
   "id": "f8bfe681",
   "metadata": {},
   "outputs": [
    {
     "data": {
      "text/html": [
       "<div>\n",
       "<style scoped>\n",
       "    .dataframe tbody tr th:only-of-type {\n",
       "        vertical-align: middle;\n",
       "    }\n",
       "\n",
       "    .dataframe tbody tr th {\n",
       "        vertical-align: top;\n",
       "    }\n",
       "\n",
       "    .dataframe thead th {\n",
       "        text-align: right;\n",
       "    }\n",
       "</style>\n",
       "<table border=\"1\" class=\"dataframe\">\n",
       "  <thead>\n",
       "    <tr style=\"text-align: right;\">\n",
       "      <th></th>\n",
       "      <th>fullVisitorId</th>\n",
       "      <th>sequence_id</th>\n",
       "      <th>sequence_details</th>\n",
       "      <th>affiliates</th>\n",
       "      <th>direct</th>\n",
       "      <th>display</th>\n",
       "      <th>organic_search</th>\n",
       "      <th>paid_search</th>\n",
       "      <th>referral</th>\n",
       "      <th>social</th>\n",
       "      <th>(other)</th>\n",
       "      <th>conversion</th>\n",
       "    </tr>\n",
       "  </thead>\n",
       "  <tbody>\n",
       "    <tr>\n",
       "      <th>0</th>\n",
       "      <td>7343617347507729080</td>\n",
       "      <td>0099Rqojoj1MCXN</td>\n",
       "      <td>organic_search&gt;dead_end</td>\n",
       "      <td>0</td>\n",
       "      <td>0</td>\n",
       "      <td>0</td>\n",
       "      <td>1</td>\n",
       "      <td>0</td>\n",
       "      <td>0</td>\n",
       "      <td>0</td>\n",
       "      <td>0</td>\n",
       "      <td>0</td>\n",
       "    </tr>\n",
       "    <tr>\n",
       "      <th>1</th>\n",
       "      <td>89656057821147903</td>\n",
       "      <td>00A9Lkka73okUx2</td>\n",
       "      <td>organic_search&gt;dead_end</td>\n",
       "      <td>0</td>\n",
       "      <td>0</td>\n",
       "      <td>0</td>\n",
       "      <td>1</td>\n",
       "      <td>0</td>\n",
       "      <td>0</td>\n",
       "      <td>0</td>\n",
       "      <td>0</td>\n",
       "      <td>0</td>\n",
       "    </tr>\n",
       "    <tr>\n",
       "      <th>2</th>\n",
       "      <td>4307745811624101170</td>\n",
       "      <td>00B30tmbMwJn7Cf</td>\n",
       "      <td>organic_search&gt;dead_end</td>\n",
       "      <td>0</td>\n",
       "      <td>0</td>\n",
       "      <td>0</td>\n",
       "      <td>1</td>\n",
       "      <td>0</td>\n",
       "      <td>0</td>\n",
       "      <td>0</td>\n",
       "      <td>0</td>\n",
       "      <td>0</td>\n",
       "    </tr>\n",
       "    <tr>\n",
       "      <th>3</th>\n",
       "      <td>7129167701457127936</td>\n",
       "      <td>00BKxKnEYlKbw9b</td>\n",
       "      <td>organic_search&gt;dead_end</td>\n",
       "      <td>0</td>\n",
       "      <td>0</td>\n",
       "      <td>0</td>\n",
       "      <td>1</td>\n",
       "      <td>0</td>\n",
       "      <td>0</td>\n",
       "      <td>0</td>\n",
       "      <td>0</td>\n",
       "      <td>0</td>\n",
       "    </tr>\n",
       "    <tr>\n",
       "      <th>4</th>\n",
       "      <td>3217678225016118393</td>\n",
       "      <td>00EttOfsTTyp45B</td>\n",
       "      <td>referral&gt;dead_end</td>\n",
       "      <td>0</td>\n",
       "      <td>0</td>\n",
       "      <td>0</td>\n",
       "      <td>0</td>\n",
       "      <td>0</td>\n",
       "      <td>1</td>\n",
       "      <td>0</td>\n",
       "      <td>0</td>\n",
       "      <td>0</td>\n",
       "    </tr>\n",
       "  </tbody>\n",
       "</table>\n",
       "</div>"
      ],
      "text/plain": [
       "         fullVisitorId      sequence_id         sequence_details  affiliates  \\\n",
       "0  7343617347507729080  0099Rqojoj1MCXN  organic_search>dead_end           0   \n",
       "1    89656057821147903  00A9Lkka73okUx2  organic_search>dead_end           0   \n",
       "2  4307745811624101170  00B30tmbMwJn7Cf  organic_search>dead_end           0   \n",
       "3  7129167701457127936  00BKxKnEYlKbw9b  organic_search>dead_end           0   \n",
       "4  3217678225016118393  00EttOfsTTyp45B        referral>dead_end           0   \n",
       "\n",
       "   direct  display  organic_search  paid_search  referral  social  (other)  \\\n",
       "0       0        0               1            0         0       0        0   \n",
       "1       0        0               1            0         0       0        0   \n",
       "2       0        0               1            0         0       0        0   \n",
       "3       0        0               1            0         0       0        0   \n",
       "4       0        0               0            0         1       0        0   \n",
       "\n",
       "   conversion  \n",
       "0           0  \n",
       "1           0  \n",
       "2           0  \n",
       "3           0  \n",
       "4           0  "
      ]
     },
     "execution_count": 11,
     "metadata": {},
     "output_type": "execute_result"
    }
   ],
   "source": [
    "## Final joining and prep\n",
    "model_prep_df4 = model_prep_df2.merge(model_prep_df3, on='sequence_id',how='left')\n",
    "\n",
    "## Add visitor id back in\n",
    "model_prep_df4 = model_prep_df4.merge(sequence_to_visitor_map, on='sequence_id',how='left')\n",
    "\n",
    "\n",
    "## drop dead_end and move Y to last spot\n",
    "model_data_final =  model_prep_df4[['fullVisitorId','sequence_id','sequence_details','affiliates'\n",
    "                                 ,'direct','display','organic_search'\n",
    "                                 ,'paid_search','referral','social'\n",
    "                                 ,'(other)','conversion']]\n",
    "model_data_final.head()"
   ]
  },
  {
   "cell_type": "code",
   "execution_count": 14,
   "id": "f5465a79",
   "metadata": {},
   "outputs": [
    {
     "name": "stdout",
     "output_type": "stream",
     "text": [
      "<class 'pandas.core.frame.DataFrame'>\n",
      "Int64Index: 99718 entries, 0 to 99717\n",
      "Data columns (total 12 columns):\n",
      " #   Column            Non-Null Count  Dtype \n",
      "---  ------            --------------  ----- \n",
      " 0   fullVisitorId     99718 non-null  object\n",
      " 1   sequence_id       99718 non-null  object\n",
      " 2   sequence_details  99718 non-null  object\n",
      " 3   affiliates        99718 non-null  int64 \n",
      " 4   direct            99718 non-null  int64 \n",
      " 5   display           99718 non-null  int64 \n",
      " 6   organic_search    99718 non-null  int64 \n",
      " 7   paid_search       99718 non-null  int64 \n",
      " 8   referral          99718 non-null  int64 \n",
      " 9   social            99718 non-null  int64 \n",
      " 10  (other)           99718 non-null  int64 \n",
      " 11  conversion        99718 non-null  int64 \n",
      "dtypes: int64(9), object(3)\n",
      "memory usage: 9.9+ MB\n"
     ]
    }
   ],
   "source": [
    "model_data_final.info()"
   ]
  },
  {
   "cell_type": "markdown",
   "id": "7fc649a1",
   "metadata": {},
   "source": [
    "We will split the data into 60 20 20 train validate test \n",
    "\n",
    "- train is used to fit models. Validate is used while making model selection feature selection decisions. Test is a true holdout for final reporting to stakeholders."
   ]
  },
  {
   "cell_type": "code",
   "execution_count": 16,
   "id": "fd31cb04",
   "metadata": {},
   "outputs": [],
   "source": [
    "# Split the data into train, validation, and test sets\n",
    "temp_data, test_data = train_test_split(model_prep_df4, test_size=0.2, random_state=42)\n",
    "train_data, val_data = train_test_split(temp_data, test_size=0.25, random_state=42)"
   ]
  },
  {
   "cell_type": "code",
   "execution_count": 17,
   "id": "19297488",
   "metadata": {},
   "outputs": [],
   "source": [
    "ind_vars = ['affiliates','direct','display','organic_search','paid_search','referral','social','(other)']\n",
    "dep_var = 'conversion'\n",
    "\n",
    "# Separate the features and target variable\n",
    "X_train = train_data[ind_vars]\n",
    "y_train = train_data[dep_var]\n",
    "X_val = val_data[ind_vars]\n",
    "y_val = val_data[dep_var]\n",
    "X_test = test_data[ind_vars]\n",
    "y_test = test_data[dep_var]"
   ]
  },
  {
   "cell_type": "code",
   "execution_count": 52,
   "id": "220ff5b3",
   "metadata": {},
   "outputs": [
    {
     "data": {
      "text/plain": [
       "LogisticRegression(C=100)"
      ]
     },
     "execution_count": 52,
     "metadata": {},
     "output_type": "execute_result"
    }
   ],
   "source": [
    "# Define the parameter grid for grid search\n",
    "param_grid = {\n",
    "    'C': [0.1, 1, 10, 100]\n",
    "}\n",
    "\n",
    "lr_model = LogisticRegression()\n",
    "\n",
    "grid_search = GridSearchCV(lr_model, param_grid, cv=5, scoring='neg_log_loss')\n",
    "grid_search.fit(X_train, y_train)\n",
    "\n",
    "lr_model = LogisticRegression(**grid_search.best_params_)\n",
    "lr_model.fit(X_train, y_train)"
   ]
  },
  {
   "cell_type": "code",
   "execution_count": 53,
   "id": "1321f2b2",
   "metadata": {},
   "outputs": [
    {
     "name": "stdout",
     "output_type": "stream",
     "text": [
      "Train AUC: 0.8036488658056495\n",
      "Test AUC: 0.8066017391060295\n"
     ]
    }
   ],
   "source": [
    "train_pred = lr_model.predict_proba(X_train)[:, 1]\n",
    "val_pred = lr_model.predict_proba(X_val)[:, 1]\n",
    "\n",
    "train_auc = roc_auc_score(y_train, train_pred)\n",
    "test_auc = roc_auc_score(y_val, val_pred)\n",
    "\n",
    "print(\"Train AUC:\", train_auc)\n",
    "print(\"Test AUC:\", test_auc)"
   ]
  },
  {
   "cell_type": "code",
   "execution_count": 1,
   "id": "df490844",
   "metadata": {},
   "outputs": [
    {
     "ename": "NameError",
     "evalue": "name 'go' is not defined",
     "output_type": "error",
     "traceback": [
      "\u001b[1;31m---------------------------------------------------------------------------\u001b[0m",
      "\u001b[1;31mNameError\u001b[0m                                 Traceback (most recent call last)",
      "Cell \u001b[1;32mIn[1], line 1\u001b[0m\n\u001b[1;32m----> 1\u001b[0m fig \u001b[38;5;241m=\u001b[39m \u001b[43mgo\u001b[49m\u001b[38;5;241m.\u001b[39mFigure()\n\u001b[0;32m      2\u001b[0m fig\u001b[38;5;241m.\u001b[39madd_shape(\n\u001b[0;32m      3\u001b[0m     \u001b[38;5;28mtype\u001b[39m\u001b[38;5;241m=\u001b[39m\u001b[38;5;124m'\u001b[39m\u001b[38;5;124mline\u001b[39m\u001b[38;5;124m'\u001b[39m, line\u001b[38;5;241m=\u001b[39m\u001b[38;5;28mdict\u001b[39m(dash\u001b[38;5;241m=\u001b[39m\u001b[38;5;124m'\u001b[39m\u001b[38;5;124mdash\u001b[39m\u001b[38;5;124m'\u001b[39m),\n\u001b[0;32m      4\u001b[0m     x0\u001b[38;5;241m=\u001b[39m\u001b[38;5;241m0\u001b[39m, x1\u001b[38;5;241m=\u001b[39m\u001b[38;5;241m1\u001b[39m, y0\u001b[38;5;241m=\u001b[39m\u001b[38;5;241m0\u001b[39m, y1\u001b[38;5;241m=\u001b[39m\u001b[38;5;241m1\u001b[39m\n\u001b[0;32m      5\u001b[0m )\n\u001b[0;32m      7\u001b[0m \u001b[38;5;28;01mfor\u001b[39;00m i, j \u001b[38;5;129;01min\u001b[39;00m \u001b[38;5;28menumerate\u001b[39m([\u001b[38;5;124m'\u001b[39m\u001b[38;5;124mtrain\u001b[39m\u001b[38;5;124m'\u001b[39m,\u001b[38;5;124m'\u001b[39m\u001b[38;5;124mvalidate\u001b[39m\u001b[38;5;124m'\u001b[39m]):\n",
      "\u001b[1;31mNameError\u001b[0m: name 'go' is not defined"
     ]
    }
   ],
   "source": [
    "fig = go.Figure()\n",
    "fig.add_shape(\n",
    "    type='line', line=dict(dash='dash'),\n",
    "    x0=0, x1=1, y0=0, y1=1\n",
    ")\n",
    "\n",
    "for i, j in enumerate(['train','validate']):\n",
    "    \n",
    "    \n",
    "    if j == 'train':\n",
    "        fpr, tpr, _ = roc_curve(y_train, train_pred)\n",
    "        auc_score = roc_auc_score(y_train, train_pred)\n",
    "    elif j == 'validate':\n",
    "        fpr, tpr, _ = roc_curve(y_val, val_pred)\n",
    "        auc_score = roc_auc_score(y_val, val_pred)\n",
    "\n",
    "    name = \"{} AUC= {:.2f}\".format(j.title(),auc_score)\n",
    "    fig.add_trace(go.Scatter(x=fpr, y=tpr, name=name, mode='lines'))\n",
    "\n",
    "fig.update_layout(\n",
    "    title='AUC for Train and Validate'\n",
    "    ,xaxis_title='False Positive Rate'\n",
    "    ,yaxis_title='True Positive Rate'\n",
    "    ,yaxis=dict(scaleanchor=\"x\", scaleratio=1)\n",
    "    ,xaxis=dict(constrain='domain')\n",
    "    ,width=700\n",
    "    ,height=500\n",
    ")\n",
    "fig.show()"
   ]
  },
  {
   "cell_type": "code",
   "execution_count": 76,
   "id": "a502ce01",
   "metadata": {},
   "outputs": [
    {
     "name": "stdout",
     "output_type": "stream",
     "text": [
      "logisitc coefficients in log-odds\n",
      "\n",
      "affiliates: -9.54\n",
      "direct: 0.12\n",
      "display: -0.07\n",
      "organic_search: 0.16\n",
      "paid_search: 0.55\n",
      "referral: 0.84\n",
      "social: -2.69\n",
      "(other): -0.04\n"
     ]
    }
   ],
   "source": [
    "# Get the coefficients (weights) for each variable\n",
    "coefficients = lr_model.coef_\n",
    "\n",
    "print(\"logisitc coefficients in log-odds\")\n",
    "print(\"\")\n",
    "# Print the coefficients\n",
    "for i, feature_name in enumerate(X_train.columns):\n",
    "\n",
    "    print(\"{}: {:.2f}\".format(feature_name,coefficients[0][i]))"
   ]
  },
  {
   "cell_type": "code",
   "execution_count": 96,
   "id": "71175a42",
   "metadata": {},
   "outputs": [
    {
     "name": "stdout",
     "output_type": "stream",
     "text": [
      "logisitc coefficients as odds ratios\n",
      "\n",
      "affiliates | odds ratio: 0.00, probability impact: -1.00\n",
      "direct | odds ratio: 1.13, probability impact: 0.13\n",
      "display | odds ratio: 0.93, probability impact: -0.07\n",
      "organic_search | odds ratio: 1.17, probability impact: 0.17\n",
      "paid_search | odds ratio: 1.73, probability impact: 0.73\n",
      "referral | odds ratio: 2.31, probability impact: 1.31\n",
      "social | odds ratio: 0.07, probability impact: -0.93\n",
      "(other) | odds ratio: 0.96, probability impact: -0.04\n"
     ]
    }
   ],
   "source": [
    "# Get the coefficients (weights) for each variable\n",
    "coefficients = lr_model.coef_\n",
    "\n",
    "print(\"logisitc coefficients as odds ratios\")\n",
    "print(\"\")\n",
    "# Print the coefficients\n",
    "for i, feature_name in enumerate(X_train.columns):\n",
    "    odds_ratio = np.exp(coefficients[0][i])\n",
    "    probability_impact = np.exp(coefficients[0][i]) - 1\n",
    "    print(\"{} | odds ratio: {:.2f}, probability impact: {:.2f}\".format(feature_name,odds_ratio,probability_impact))"
   ]
  },
  {
   "cell_type": "markdown",
   "id": "aa5cf68c",
   "metadata": {},
   "source": [
    "To interpret this: each additional touchpoint from direct channel results in the probability of conversion increasing by 13%."
   ]
  },
  {
   "cell_type": "markdown",
   "id": "2e38ef4d",
   "metadata": {},
   "source": [
    "## Deploying these weights into a business system/ attribution report dataset\n",
    "\n",
    "So now how can we logically create a data driven logisitc regression output that would let us divy up conversions appropriately?\n",
    "\n",
    "To divy up these credits we would need to meet the following rules.\n",
    "- If a touchpoint is present but no conversion it gets zero credit for a conversion\n",
    "- If a touchpoint is present but there is a conversion it gets >= 0 credit for a conversion\n",
    "- If a touchpoint is not present it gets no credit and it gets no penalty either."
   ]
  },
  {
   "cell_type": "markdown",
   "id": "c22de1d2",
   "metadata": {},
   "source": [
    "The softmax function transforms the original logistic coefficients into a set of values that sum up to 1, with each value representing the probability weight of the corresponding independent variable in contributing to the outcome variable. These probability weights can be interpreted as the relative importance of each independent variable in predicting the outcome variable."
   ]
  },
  {
   "cell_type": "code",
   "execution_count": 83,
   "id": "ca65ea67",
   "metadata": {},
   "outputs": [
    {
     "name": "stdout",
     "output_type": "stream",
     "text": [
      "logisitc coefficients in softmax\n",
      "\n",
      "affiliates: 0.00001\n",
      "direct: 0.13573\n",
      "display: 0.11199\n",
      "organic_search: 0.14151\n",
      "paid_search: 0.20818\n",
      "referral: 0.27844\n",
      "social: 0.00819\n",
      "(other): 0.11595\n"
     ]
    }
   ],
   "source": [
    "## example interpretation\n",
    "\n",
    "coefficients = special.softmax(lr_model.coef_)\n",
    "print(\"logisitc coefficients in softmax\")\n",
    "print(\"\")\n",
    "# Print the coefficients\n",
    "for i, feature_name in enumerate(X_train.columns):\n",
    "\n",
    "    print(\"{}: {:.5f}\".format(feature_name,coefficients[0][i]))"
   ]
  },
  {
   "cell_type": "markdown",
   "id": "572de66c",
   "metadata": {},
   "source": [
    "These probability weights can be interpreted as follows: referral has the highest probability weight of 0.278, which means it is the most important independent variable in predicting the outcome variable. "
   ]
  },
  {
   "cell_type": "markdown",
   "id": "db11f1ca",
   "metadata": {},
   "source": [
    "Assume we had 1 touchpoint of each channel present and then a conversion. These set of numbers could represent how much credit each channel gets in that scenario. "
   ]
  },
  {
   "cell_type": "markdown",
   "id": "f7f34808",
   "metadata": {},
   "source": [
    "Now what if we saw a journey with 2 paid search 1 referal 1 affiliate then a conversion"
   ]
  },
  {
   "cell_type": "markdown",
   "id": "f7a06482",
   "metadata": {},
   "source": [
    "The conversion should be divvyd up like this"
   ]
  },
  {
   "cell_type": "code",
   "execution_count": 95,
   "id": "3432c5d1",
   "metadata": {},
   "outputs": [
    {
     "name": "stdout",
     "output_type": "stream",
     "text": [
      "paid search channel credit: 0.599\n",
      "paid search per touchpoint credit: 0.300\n",
      "\n",
      "referral channel credit: 0.401\n",
      "referral touchpoint credit: 0.401\n",
      "\n",
      "affiliate channel credit: 0.000\n",
      "affiliate touchpoint credit: 0.000\n"
     ]
    }
   ],
   "source": [
    "channel_impacts = 2 * (0.20818) + 1 * (0.27844) + 1 * (0.00001)\n",
    "\n",
    "paid_search_channel_contribution = (2 * (0.20818)) / channel_impacts\n",
    "paid_search_touchpoint_contribution = paid_search_channel_contribution / 2\n",
    "\n",
    "referral_channel_contribution = (1 * (0.27844)) / channel_impacts\n",
    "referral_touchpoint_contribution = referral_channel_contribution / 1\n",
    "\n",
    "affiliate_channel_contribution = (1 * (0.00001)) / channel_impacts\n",
    "affiliate_touchpoint_contribution = affiliate_channel_contribution / 1\n",
    "\n",
    "print(\"paid search channel credit: {:.3f}\".format(paid_search_channel_contribution))\n",
    "print(\"paid search per touchpoint credit: {:.3f}\".format(paid_search_touchpoint_contribution))\n",
    "print(\"\")\n",
    "print(\"referral channel credit: {:.3f}\".format(referral_channel_contribution))\n",
    "print(\"referral touchpoint credit: {:.3f}\".format(referral_touchpoint_contribution))\n",
    "print(\"\")\n",
    "print(\"affiliate channel credit: {:.3f}\".format(affiliate_channel_contribution))\n",
    "print(\"affiliate touchpoint credit: {:.3f}\".format(affiliate_touchpoint_contribution))"
   ]
  },
  {
   "cell_type": "markdown",
   "id": "c262916d",
   "metadata": {},
   "source": [
    "In summary, we can use the softmax transformation on the logistic regression coefficients to give us indepentent variable impacts on a scale between 0 and 1 and summing up to 1\n",
    "\n",
    "These weights are data driven and sensible to then be deployed to calculate channel contribution and touchpoint contribution like the example above. \n",
    "\n",
    "Once the entire dataset is scored, we can now slice and dice the results. "
   ]
  },
  {
   "cell_type": "markdown",
   "id": "a7169803",
   "metadata": {},
   "source": [
    "Let's talk about some limitations of this approach in its current status now.\n",
    "\n",
    "We only get 1 weight/coefficient for a given channel touchpoint that doesn't change given the presence of other touchpoints so the interaction effects are limitied just to the attribution games' nature of the canabalism. Other approaches may actually let these base weights change given control variables and synergistic relationships across the channels. \n",
    "\n",
    "Weights should/could change based on:\n",
    "1) synergyistic effects (presence or lack of presence of other channels)\n",
    "\n",
    "2) special patterns or sequences\n",
    "\n",
    "3) control variables (geography, customer demographics, etc.)\n",
    "\n",
    "Logistic oversimplifies by just giving you one set of weights to use regardless of these other potential factors."
   ]
  },
  {
   "cell_type": "markdown",
   "id": "09358c4b",
   "metadata": {},
   "source": [
    "## What Next\n",
    "\n",
    "**Try similar approach with these better algorithms (does not address the mission of sequences)**\n",
    "- Try xgboost\n",
    "\n",
    "**Introduce Control Variables**\n",
    "- Introduce daypart, devicetype, and geo\n",
    "\n",
    "**Build initiator closer model**\n",
    "- first touch channel, last touch channel, 8 channels\n",
    "\n",
    "**Build position based only (non-sequence) solutions**\n",
    "- number of features = last N positions * 8 channels, + null\n",
    "- eg affiliate|1, affiliate|2, affiliate|3 ... etc\n",
    "\n",
    "**Build small-sequence solutions xgboost**\n",
    "- number of features permutations of 1 touchpoint present (8 channels) + permutations of 2 tactic + permutations of 3 tactic\n",
    "\n",
    "**Build large scale sequence solutions with embedding, dimensionality reduction, sequence mining techniques**\n",
    "- Figuring out hot to embbed or train machine learning algoirthms in the highly complex and spare sequences data\n",
    "\n",
    "**go straight for LSTM fully sequential**\n",
    "- you will need to research what type of input data is needed\n",
    "- you will need to go back to the source data and grab more observations as well"
   ]
  }
 ],
 "metadata": {
  "kernelspec": {
   "display_name": "Python 3 (ipykernel)",
   "language": "python",
   "name": "python3"
  },
  "language_info": {
   "codemirror_mode": {
    "name": "ipython",
    "version": 3
   },
   "file_extension": ".py",
   "mimetype": "text/x-python",
   "name": "python",
   "nbconvert_exporter": "python",
   "pygments_lexer": "ipython3",
   "version": "3.9.13"
  }
 },
 "nbformat": 4,
 "nbformat_minor": 5
}
